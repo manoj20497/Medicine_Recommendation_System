{
 "cells": [
  {
   "cell_type": "markdown",
   "id": "d5f403da-0d12-4f8f-88dd-73ae769dd426",
   "metadata": {},
   "source": [
    "# Title: ***Personalized Medical Recommendation System with Machine Learning***\n",
    "\n",
    "# Description:\n",
    "\n",
    "*Welcome to our cutting-edge Personalized Medical Recommendation System, a powerful platform designed to assist users in understanding and managing their health. Leveraging the capabilities of machine learning, our system analyzes user-input symptoms to predict potential diseases accurately.*"
   ]
  },
  {
   "cell_type": "markdown",
   "id": "5f270277-ac26-41ac-853f-f48ca68bc99e",
   "metadata": {},
   "source": [
    "### *_Importing required modules_*"
   ]
  },
  {
   "cell_type": "code",
   "execution_count": 6,
   "id": "5bfddfd0-4e7b-4718-8c05-897733646f0b",
   "metadata": {},
   "outputs": [],
   "source": [
    "import pandas as pd\n",
    "import numpy as np\n",
    "import seaborn as sns\n",
    "import matplotlib.pyplot as plt\n",
    "from sklearn.utils import shuffle\n",
    "from sklearn.model_selection import train_test_split\n",
    "from sklearn.preprocessing import LabelEncoder\n",
    "from sklearn.svm import SVC\n",
    "from sklearn.ensemble import GradientBoostingClassifier, RandomForestClassifier\n",
    "from sklearn.naive_bayes import MultinomialNB\n",
    "from sklearn.neighbors import KNeighborsClassifier\n",
    "from sklearn.metrics import accuracy_score, confusion_matrix, f1_score\n",
    "import warnings\n",
    "warnings.filterwarnings(\"ignore\")"
   ]
  },
  {
   "cell_type": "markdown",
   "id": "436b8cc1-fe9b-4b14-9d49-6b3bc3517f66",
   "metadata": {},
   "source": [
    "### *_Loading Dataset_*"
   ]
  },
  {
   "cell_type": "code",
   "execution_count": 7,
   "id": "dcbc34fa-bed1-49b2-b1d8-946f27f70a39",
   "metadata": {},
   "outputs": [],
   "source": [
    "df = pd.read_csv(\"Training.csv\")"
   ]
  },
  {
   "cell_type": "markdown",
   "id": "fadb34a8-fdae-43f0-8111-96041d73e053",
   "metadata": {},
   "source": [
    "### *_Viewing samples to check the data_*"
   ]
  },
  {
   "cell_type": "code",
   "execution_count": 8,
   "id": "f18af406-de00-4846-9771-7cc24104c566",
   "metadata": {},
   "outputs": [
    {
     "data": {
      "text/html": [
       "<div>\n",
       "<style scoped>\n",
       "    .dataframe tbody tr th:only-of-type {\n",
       "        vertical-align: middle;\n",
       "    }\n",
       "\n",
       "    .dataframe tbody tr th {\n",
       "        vertical-align: top;\n",
       "    }\n",
       "\n",
       "    .dataframe thead th {\n",
       "        text-align: right;\n",
       "    }\n",
       "</style>\n",
       "<table border=\"1\" class=\"dataframe\">\n",
       "  <thead>\n",
       "    <tr style=\"text-align: right;\">\n",
       "      <th></th>\n",
       "      <th>itching</th>\n",
       "      <th>skin_rash</th>\n",
       "      <th>nodal_skin_eruptions</th>\n",
       "      <th>continuous_sneezing</th>\n",
       "      <th>shivering</th>\n",
       "      <th>chills</th>\n",
       "      <th>joint_pain</th>\n",
       "      <th>stomach_pain</th>\n",
       "      <th>acidity</th>\n",
       "      <th>ulcers_on_tongue</th>\n",
       "      <th>...</th>\n",
       "      <th>blackheads</th>\n",
       "      <th>scurring</th>\n",
       "      <th>skin_peeling</th>\n",
       "      <th>silver_like_dusting</th>\n",
       "      <th>small_dents_in_nails</th>\n",
       "      <th>inflammatory_nails</th>\n",
       "      <th>blister</th>\n",
       "      <th>red_sore_around_nose</th>\n",
       "      <th>yellow_crust_ooze</th>\n",
       "      <th>prognosis</th>\n",
       "    </tr>\n",
       "  </thead>\n",
       "  <tbody>\n",
       "    <tr>\n",
       "      <th>0</th>\n",
       "      <td>1</td>\n",
       "      <td>1</td>\n",
       "      <td>1</td>\n",
       "      <td>0</td>\n",
       "      <td>0</td>\n",
       "      <td>0</td>\n",
       "      <td>0</td>\n",
       "      <td>0</td>\n",
       "      <td>0</td>\n",
       "      <td>0</td>\n",
       "      <td>...</td>\n",
       "      <td>0</td>\n",
       "      <td>0</td>\n",
       "      <td>0</td>\n",
       "      <td>0</td>\n",
       "      <td>0</td>\n",
       "      <td>0</td>\n",
       "      <td>0</td>\n",
       "      <td>0</td>\n",
       "      <td>0</td>\n",
       "      <td>Fungal infection</td>\n",
       "    </tr>\n",
       "    <tr>\n",
       "      <th>1</th>\n",
       "      <td>0</td>\n",
       "      <td>1</td>\n",
       "      <td>1</td>\n",
       "      <td>0</td>\n",
       "      <td>0</td>\n",
       "      <td>0</td>\n",
       "      <td>0</td>\n",
       "      <td>0</td>\n",
       "      <td>0</td>\n",
       "      <td>0</td>\n",
       "      <td>...</td>\n",
       "      <td>0</td>\n",
       "      <td>0</td>\n",
       "      <td>0</td>\n",
       "      <td>0</td>\n",
       "      <td>0</td>\n",
       "      <td>0</td>\n",
       "      <td>0</td>\n",
       "      <td>0</td>\n",
       "      <td>0</td>\n",
       "      <td>Fungal infection</td>\n",
       "    </tr>\n",
       "    <tr>\n",
       "      <th>2</th>\n",
       "      <td>1</td>\n",
       "      <td>0</td>\n",
       "      <td>1</td>\n",
       "      <td>0</td>\n",
       "      <td>0</td>\n",
       "      <td>0</td>\n",
       "      <td>0</td>\n",
       "      <td>0</td>\n",
       "      <td>0</td>\n",
       "      <td>0</td>\n",
       "      <td>...</td>\n",
       "      <td>0</td>\n",
       "      <td>0</td>\n",
       "      <td>0</td>\n",
       "      <td>0</td>\n",
       "      <td>0</td>\n",
       "      <td>0</td>\n",
       "      <td>0</td>\n",
       "      <td>0</td>\n",
       "      <td>0</td>\n",
       "      <td>Fungal infection</td>\n",
       "    </tr>\n",
       "    <tr>\n",
       "      <th>3</th>\n",
       "      <td>1</td>\n",
       "      <td>1</td>\n",
       "      <td>0</td>\n",
       "      <td>0</td>\n",
       "      <td>0</td>\n",
       "      <td>0</td>\n",
       "      <td>0</td>\n",
       "      <td>0</td>\n",
       "      <td>0</td>\n",
       "      <td>0</td>\n",
       "      <td>...</td>\n",
       "      <td>0</td>\n",
       "      <td>0</td>\n",
       "      <td>0</td>\n",
       "      <td>0</td>\n",
       "      <td>0</td>\n",
       "      <td>0</td>\n",
       "      <td>0</td>\n",
       "      <td>0</td>\n",
       "      <td>0</td>\n",
       "      <td>Fungal infection</td>\n",
       "    </tr>\n",
       "    <tr>\n",
       "      <th>4</th>\n",
       "      <td>1</td>\n",
       "      <td>1</td>\n",
       "      <td>1</td>\n",
       "      <td>0</td>\n",
       "      <td>0</td>\n",
       "      <td>0</td>\n",
       "      <td>0</td>\n",
       "      <td>0</td>\n",
       "      <td>0</td>\n",
       "      <td>0</td>\n",
       "      <td>...</td>\n",
       "      <td>0</td>\n",
       "      <td>0</td>\n",
       "      <td>0</td>\n",
       "      <td>0</td>\n",
       "      <td>0</td>\n",
       "      <td>0</td>\n",
       "      <td>0</td>\n",
       "      <td>0</td>\n",
       "      <td>0</td>\n",
       "      <td>Fungal infection</td>\n",
       "    </tr>\n",
       "  </tbody>\n",
       "</table>\n",
       "<p>5 rows × 133 columns</p>\n",
       "</div>"
      ],
      "text/plain": [
       "   itching  skin_rash  nodal_skin_eruptions  continuous_sneezing  shivering  \\\n",
       "0        1          1                     1                    0          0   \n",
       "1        0          1                     1                    0          0   \n",
       "2        1          0                     1                    0          0   \n",
       "3        1          1                     0                    0          0   \n",
       "4        1          1                     1                    0          0   \n",
       "\n",
       "   chills  joint_pain  stomach_pain  acidity  ulcers_on_tongue  ...  \\\n",
       "0       0           0             0        0                 0  ...   \n",
       "1       0           0             0        0                 0  ...   \n",
       "2       0           0             0        0                 0  ...   \n",
       "3       0           0             0        0                 0  ...   \n",
       "4       0           0             0        0                 0  ...   \n",
       "\n",
       "   blackheads  scurring  skin_peeling  silver_like_dusting  \\\n",
       "0           0         0             0                    0   \n",
       "1           0         0             0                    0   \n",
       "2           0         0             0                    0   \n",
       "3           0         0             0                    0   \n",
       "4           0         0             0                    0   \n",
       "\n",
       "   small_dents_in_nails  inflammatory_nails  blister  red_sore_around_nose  \\\n",
       "0                     0                   0        0                     0   \n",
       "1                     0                   0        0                     0   \n",
       "2                     0                   0        0                     0   \n",
       "3                     0                   0        0                     0   \n",
       "4                     0                   0        0                     0   \n",
       "\n",
       "   yellow_crust_ooze         prognosis  \n",
       "0                  0  Fungal infection  \n",
       "1                  0  Fungal infection  \n",
       "2                  0  Fungal infection  \n",
       "3                  0  Fungal infection  \n",
       "4                  0  Fungal infection  \n",
       "\n",
       "[5 rows x 133 columns]"
      ]
     },
     "execution_count": 8,
     "metadata": {},
     "output_type": "execute_result"
    }
   ],
   "source": [
    "df.head(5)"
   ]
  },
  {
   "cell_type": "markdown",
   "id": "66243380-81ca-46b6-9ea0-3d144d5a54df",
   "metadata": {},
   "source": [
    "#### *_In above dataframe, we can see the data is arranged label wise. So we need to shuffle it first_*"
   ]
  },
  {
   "cell_type": "code",
   "execution_count": 9,
   "id": "ce6e6fad-f3df-4b79-a8a2-919216a58203",
   "metadata": {},
   "outputs": [],
   "source": [
    "df = shuffle(df)"
   ]
  },
  {
   "cell_type": "code",
   "execution_count": 10,
   "id": "4625fb4f-54f7-4f00-ab27-3a25de6aa7f3",
   "metadata": {},
   "outputs": [
    {
     "data": {
      "text/html": [
       "<div>\n",
       "<style scoped>\n",
       "    .dataframe tbody tr th:only-of-type {\n",
       "        vertical-align: middle;\n",
       "    }\n",
       "\n",
       "    .dataframe tbody tr th {\n",
       "        vertical-align: top;\n",
       "    }\n",
       "\n",
       "    .dataframe thead th {\n",
       "        text-align: right;\n",
       "    }\n",
       "</style>\n",
       "<table border=\"1\" class=\"dataframe\">\n",
       "  <thead>\n",
       "    <tr style=\"text-align: right;\">\n",
       "      <th></th>\n",
       "      <th>itching</th>\n",
       "      <th>skin_rash</th>\n",
       "      <th>nodal_skin_eruptions</th>\n",
       "      <th>continuous_sneezing</th>\n",
       "      <th>shivering</th>\n",
       "      <th>chills</th>\n",
       "      <th>joint_pain</th>\n",
       "      <th>stomach_pain</th>\n",
       "      <th>acidity</th>\n",
       "      <th>ulcers_on_tongue</th>\n",
       "      <th>...</th>\n",
       "      <th>blackheads</th>\n",
       "      <th>scurring</th>\n",
       "      <th>skin_peeling</th>\n",
       "      <th>silver_like_dusting</th>\n",
       "      <th>small_dents_in_nails</th>\n",
       "      <th>inflammatory_nails</th>\n",
       "      <th>blister</th>\n",
       "      <th>red_sore_around_nose</th>\n",
       "      <th>yellow_crust_ooze</th>\n",
       "      <th>prognosis</th>\n",
       "    </tr>\n",
       "  </thead>\n",
       "  <tbody>\n",
       "    <tr>\n",
       "      <th>1241</th>\n",
       "      <td>0</td>\n",
       "      <td>0</td>\n",
       "      <td>0</td>\n",
       "      <td>0</td>\n",
       "      <td>1</td>\n",
       "      <td>1</td>\n",
       "      <td>0</td>\n",
       "      <td>0</td>\n",
       "      <td>0</td>\n",
       "      <td>0</td>\n",
       "      <td>...</td>\n",
       "      <td>0</td>\n",
       "      <td>0</td>\n",
       "      <td>0</td>\n",
       "      <td>0</td>\n",
       "      <td>0</td>\n",
       "      <td>0</td>\n",
       "      <td>0</td>\n",
       "      <td>0</td>\n",
       "      <td>0</td>\n",
       "      <td>Allergy</td>\n",
       "    </tr>\n",
       "    <tr>\n",
       "      <th>4377</th>\n",
       "      <td>0</td>\n",
       "      <td>0</td>\n",
       "      <td>0</td>\n",
       "      <td>0</td>\n",
       "      <td>0</td>\n",
       "      <td>0</td>\n",
       "      <td>0</td>\n",
       "      <td>0</td>\n",
       "      <td>0</td>\n",
       "      <td>0</td>\n",
       "      <td>...</td>\n",
       "      <td>0</td>\n",
       "      <td>0</td>\n",
       "      <td>0</td>\n",
       "      <td>0</td>\n",
       "      <td>0</td>\n",
       "      <td>0</td>\n",
       "      <td>0</td>\n",
       "      <td>0</td>\n",
       "      <td>0</td>\n",
       "      <td>Hypothyroidism</td>\n",
       "    </tr>\n",
       "    <tr>\n",
       "      <th>4149</th>\n",
       "      <td>0</td>\n",
       "      <td>0</td>\n",
       "      <td>0</td>\n",
       "      <td>0</td>\n",
       "      <td>0</td>\n",
       "      <td>0</td>\n",
       "      <td>0</td>\n",
       "      <td>0</td>\n",
       "      <td>0</td>\n",
       "      <td>0</td>\n",
       "      <td>...</td>\n",
       "      <td>0</td>\n",
       "      <td>0</td>\n",
       "      <td>0</td>\n",
       "      <td>0</td>\n",
       "      <td>0</td>\n",
       "      <td>0</td>\n",
       "      <td>0</td>\n",
       "      <td>0</td>\n",
       "      <td>0</td>\n",
       "      <td>Gastroenteritis</td>\n",
       "    </tr>\n",
       "    <tr>\n",
       "      <th>2212</th>\n",
       "      <td>1</td>\n",
       "      <td>0</td>\n",
       "      <td>0</td>\n",
       "      <td>0</td>\n",
       "      <td>0</td>\n",
       "      <td>0</td>\n",
       "      <td>0</td>\n",
       "      <td>0</td>\n",
       "      <td>0</td>\n",
       "      <td>0</td>\n",
       "      <td>...</td>\n",
       "      <td>0</td>\n",
       "      <td>0</td>\n",
       "      <td>0</td>\n",
       "      <td>0</td>\n",
       "      <td>0</td>\n",
       "      <td>0</td>\n",
       "      <td>0</td>\n",
       "      <td>0</td>\n",
       "      <td>0</td>\n",
       "      <td>Chicken pox</td>\n",
       "    </tr>\n",
       "    <tr>\n",
       "      <th>376</th>\n",
       "      <td>0</td>\n",
       "      <td>1</td>\n",
       "      <td>0</td>\n",
       "      <td>0</td>\n",
       "      <td>0</td>\n",
       "      <td>0</td>\n",
       "      <td>0</td>\n",
       "      <td>0</td>\n",
       "      <td>0</td>\n",
       "      <td>0</td>\n",
       "      <td>...</td>\n",
       "      <td>1</td>\n",
       "      <td>1</td>\n",
       "      <td>0</td>\n",
       "      <td>0</td>\n",
       "      <td>0</td>\n",
       "      <td>0</td>\n",
       "      <td>0</td>\n",
       "      <td>0</td>\n",
       "      <td>0</td>\n",
       "      <td>Acne</td>\n",
       "    </tr>\n",
       "  </tbody>\n",
       "</table>\n",
       "<p>5 rows × 133 columns</p>\n",
       "</div>"
      ],
      "text/plain": [
       "      itching  skin_rash  nodal_skin_eruptions  continuous_sneezing  \\\n",
       "1241        0          0                     0                    0   \n",
       "4377        0          0                     0                    0   \n",
       "4149        0          0                     0                    0   \n",
       "2212        1          0                     0                    0   \n",
       "376         0          1                     0                    0   \n",
       "\n",
       "      shivering  chills  joint_pain  stomach_pain  acidity  ulcers_on_tongue  \\\n",
       "1241          1       1           0             0        0                 0   \n",
       "4377          0       0           0             0        0                 0   \n",
       "4149          0       0           0             0        0                 0   \n",
       "2212          0       0           0             0        0                 0   \n",
       "376           0       0           0             0        0                 0   \n",
       "\n",
       "      ...  blackheads  scurring  skin_peeling  silver_like_dusting  \\\n",
       "1241  ...           0         0             0                    0   \n",
       "4377  ...           0         0             0                    0   \n",
       "4149  ...           0         0             0                    0   \n",
       "2212  ...           0         0             0                    0   \n",
       "376   ...           1         1             0                    0   \n",
       "\n",
       "      small_dents_in_nails  inflammatory_nails  blister  red_sore_around_nose  \\\n",
       "1241                     0                   0        0                     0   \n",
       "4377                     0                   0        0                     0   \n",
       "4149                     0                   0        0                     0   \n",
       "2212                     0                   0        0                     0   \n",
       "376                      0                   0        0                     0   \n",
       "\n",
       "      yellow_crust_ooze        prognosis  \n",
       "1241                  0          Allergy  \n",
       "4377                  0   Hypothyroidism  \n",
       "4149                  0  Gastroenteritis  \n",
       "2212                  0      Chicken pox  \n",
       "376                   0             Acne  \n",
       "\n",
       "[5 rows x 133 columns]"
      ]
     },
     "execution_count": 10,
     "metadata": {},
     "output_type": "execute_result"
    }
   ],
   "source": [
    "df.head()"
   ]
  },
  {
   "cell_type": "markdown",
   "id": "0c4725ce-cc50-47ca-a0d9-21390769e077",
   "metadata": {},
   "source": [
    "### *_Checking unique values of target variable (Diseases which to be predict)_*"
   ]
  },
  {
   "cell_type": "code",
   "execution_count": 11,
   "id": "6a57654c-9f6c-4d84-a999-cb86c84f1c48",
   "metadata": {},
   "outputs": [
    {
     "data": {
      "text/plain": [
       "41"
      ]
     },
     "execution_count": 11,
     "metadata": {},
     "output_type": "execute_result"
    }
   ],
   "source": [
    "df.prognosis.nunique()"
   ]
  },
  {
   "cell_type": "code",
   "execution_count": 12,
   "id": "1361f3c4-a566-4421-9747-65a2a4bf3e99",
   "metadata": {},
   "outputs": [],
   "source": [
    "X = df.drop(\"prognosis\", axis=1)\n",
    "y = df.prognosis"
   ]
  },
  {
   "cell_type": "code",
   "execution_count": 13,
   "id": "040f9108-8a9b-45e7-9f45-e4addfa687b5",
   "metadata": {},
   "outputs": [],
   "source": [
    "le = LabelEncoder()\n",
    "y = le.fit_transform(y)"
   ]
  },
  {
   "cell_type": "markdown",
   "id": "fd41a36e-263b-4fc7-8775-b7a59c38b351",
   "metadata": {},
   "source": [
    "### *_Checking the number provided to each prognosis by label encoder_*"
   ]
  },
  {
   "cell_type": "code",
   "execution_count": 14,
   "id": "e71c8718-e3cd-4dbc-a785-eccff8c97693",
   "metadata": {},
   "outputs": [
    {
     "name": "stdout",
     "output_type": "stream",
     "text": [
      "Label mapping:\n",
      "(vertigo) Paroymsal  Positional Vertigo: 0\n",
      "AIDS: 1\n",
      "Acne: 2\n",
      "Alcoholic hepatitis: 3\n",
      "Allergy: 4\n",
      "Arthritis: 5\n",
      "Bronchial Asthma: 6\n",
      "Cervical spondylosis: 7\n",
      "Chicken pox: 8\n",
      "Chronic cholestasis: 9\n",
      "Common Cold: 10\n",
      "Dengue: 11\n",
      "Diabetes : 12\n",
      "Dimorphic hemmorhoids(piles): 13\n",
      "Drug Reaction: 14\n",
      "Fungal infection: 15\n",
      "GERD: 16\n",
      "Gastroenteritis: 17\n",
      "Heart attack: 18\n",
      "Hepatitis B: 19\n",
      "Hepatitis C: 20\n",
      "Hepatitis D: 21\n",
      "Hepatitis E: 22\n",
      "Hypertension : 23\n",
      "Hyperthyroidism: 24\n",
      "Hypoglycemia: 25\n",
      "Hypothyroidism: 26\n",
      "Impetigo: 27\n",
      "Jaundice: 28\n",
      "Malaria: 29\n",
      "Migraine: 30\n",
      "Osteoarthristis: 31\n",
      "Paralysis (brain hemorrhage): 32\n",
      "Peptic ulcer diseae: 33\n",
      "Pneumonia: 34\n",
      "Psoriasis: 35\n",
      "Tuberculosis: 36\n",
      "Typhoid: 37\n",
      "Urinary tract infection: 38\n",
      "Varicose veins: 39\n",
      "hepatitis A: 40\n"
     ]
    }
   ],
   "source": [
    "print(\"Label mapping:\")\n",
    "for label, integer_value in zip(le.classes_, le.transform(le.classes_)):\n",
    "    print(f\"{label}: {integer_value}\")"
   ]
  },
  {
   "cell_type": "markdown",
   "id": "d6994a5b-3446-4568-8708-8e6cad51b462",
   "metadata": {},
   "source": [
    "### *_Split the data into 4 Variables, i.e. X_train, X_test, y_train, y_test_*"
   ]
  },
  {
   "cell_type": "code",
   "execution_count": 15,
   "id": "71f53000-afd7-4155-b3a1-e4238a493c7b",
   "metadata": {},
   "outputs": [],
   "source": [
    "X_train, X_test, y_train, y_test = train_test_split(X,y, test_size=0.3, random_state=30)"
   ]
  },
  {
   "cell_type": "code",
   "execution_count": 16,
   "id": "3536b80b-dd35-4dd0-831f-3f5d417427a1",
   "metadata": {},
   "outputs": [
    {
     "data": {
      "text/plain": [
       "((3444, 132), (1476, 132), (3444,), (1476,))"
      ]
     },
     "execution_count": 16,
     "metadata": {},
     "output_type": "execute_result"
    }
   ],
   "source": [
    "X_train.shape, X_test.shape, y_train.shape, y_test.shape"
   ]
  },
  {
   "cell_type": "markdown",
   "id": "37ad862e-b709-43ee-8733-81c0bb8d1e9f",
   "metadata": {},
   "source": [
    "### *_Tried applying different classifiers to get the best out of it_*"
   ]
  },
  {
   "cell_type": "code",
   "execution_count": 17,
   "id": "195ee354-b66a-4977-a519-fcdc70ba9dae",
   "metadata": {},
   "outputs": [],
   "source": [
    "models = {\n",
    "    \"SVC\": SVC(kernel=\"linear\"),\n",
    "    \"GradientBoost\": GradientBoostingClassifier(n_estimators=120, random_state=42),\n",
    "    \"RandomForest\": RandomForestClassifier(n_estimators=120, random_state=42),\n",
    "    \"Multinomial\" : MultinomialNB(),\n",
    "    \"KNearestNeighbors\": KNeighborsClassifier(n_neighbors=5)\n",
    "}"
   ]
  },
  {
   "cell_type": "code",
   "execution_count": 18,
   "id": "3e9e1846-be60-4bc5-84bf-3c7dd262f099",
   "metadata": {},
   "outputs": [
    {
     "name": "stdout",
     "output_type": "stream",
     "text": [
      "SVC : SVC(kernel='linear')\n",
      "GradientBoost : GradientBoostingClassifier(n_estimators=120, random_state=42)\n",
      "RandomForest : RandomForestClassifier(n_estimators=120, random_state=42)\n",
      "Multinomial : MultinomialNB()\n",
      "KNearestNeighbors : KNeighborsClassifier()\n"
     ]
    }
   ],
   "source": [
    "for model_name,model in models.items():\n",
    "    print(model_name, \":\", model)"
   ]
  },
  {
   "cell_type": "markdown",
   "id": "148d44b5-86b0-42f0-baf8-c74b7deae23b",
   "metadata": {},
   "source": [
    "### *_Checking Accuracy, F1_Score, and Confusion matrix for each model_*"
   ]
  },
  {
   "cell_type": "code",
   "execution_count": 19,
   "id": "cf55f4a9-aa99-4e3f-8893-54328ddbf20c",
   "metadata": {},
   "outputs": [
    {
     "name": "stdout",
     "output_type": "stream",
     "text": [
      "SVC Accuarcy 1.0\n",
      "SVC F1 Score1.0\n",
      "SVC Confusion Matrix:\n",
      "[[24, 0, 0,..., 0, 0, 0],\n",
      " [ 0,37, 0,..., 0, 0, 0],\n",
      " [ 0, 0,29,..., 0, 0, 0],\n",
      " ...,\n",
      " [ 0, 0, 0,...,42, 0, 0],\n",
      " [ 0, 0, 0,..., 0,36, 0],\n",
      " [ 0, 0, 0,..., 0, 0,41]]\n",
      "\n",
      "GradientBoost Accuarcy 1.0\n",
      "GradientBoost F1 Score1.0\n",
      "GradientBoost Confusion Matrix:\n",
      "[[24, 0, 0,..., 0, 0, 0],\n",
      " [ 0,37, 0,..., 0, 0, 0],\n",
      " [ 0, 0,29,..., 0, 0, 0],\n",
      " ...,\n",
      " [ 0, 0, 0,...,42, 0, 0],\n",
      " [ 0, 0, 0,..., 0,36, 0],\n",
      " [ 0, 0, 0,..., 0, 0,41]]\n",
      "\n",
      "RandomForest Accuarcy 1.0\n",
      "RandomForest F1 Score1.0\n",
      "RandomForest Confusion Matrix:\n",
      "[[24, 0, 0,..., 0, 0, 0],\n",
      " [ 0,37, 0,..., 0, 0, 0],\n",
      " [ 0, 0,29,..., 0, 0, 0],\n",
      " ...,\n",
      " [ 0, 0, 0,...,42, 0, 0],\n",
      " [ 0, 0, 0,..., 0,36, 0],\n",
      " [ 0, 0, 0,..., 0, 0,41]]\n",
      "\n",
      "Multinomial Accuarcy 1.0\n",
      "Multinomial F1 Score1.0\n",
      "Multinomial Confusion Matrix:\n",
      "[[24, 0, 0,..., 0, 0, 0],\n",
      " [ 0,37, 0,..., 0, 0, 0],\n",
      " [ 0, 0,29,..., 0, 0, 0],\n",
      " ...,\n",
      " [ 0, 0, 0,...,42, 0, 0],\n",
      " [ 0, 0, 0,..., 0,36, 0],\n",
      " [ 0, 0, 0,..., 0, 0,41]]\n",
      "\n",
      "KNearestNeighbors Accuarcy 1.0\n",
      "KNearestNeighbors F1 Score1.0\n",
      "KNearestNeighbors Confusion Matrix:\n",
      "[[24, 0, 0,..., 0, 0, 0],\n",
      " [ 0,37, 0,..., 0, 0, 0],\n",
      " [ 0, 0,29,..., 0, 0, 0],\n",
      " ...,\n",
      " [ 0, 0, 0,...,42, 0, 0],\n",
      " [ 0, 0, 0,..., 0,36, 0],\n",
      " [ 0, 0, 0,..., 0, 0,41]]\n",
      "\n"
     ]
    }
   ],
   "source": [
    "for model_name, model in models.items():\n",
    "    model.fit(X_train, y_train)\n",
    "    pred = model.predict(X_test)\n",
    "\n",
    "    Accuracy = accuracy_score(y_test, pred)\n",
    "    F1_score = f1_score(y_test, pred, average=\"weighted\")\n",
    "    cm = confusion_matrix(y_test, pred)\n",
    "\n",
    "    print(f\"{model_name} Accuarcy {Accuracy}\")\n",
    "    print(f\"{model_name} F1 Score{F1_score}\")\n",
    "    print(f\"{model_name} Confusion Matrix:\")\n",
    "    print(np.array2string(cm, separator=\",\"))\n",
    "    print()"
   ]
  },
  {
   "cell_type": "markdown",
   "id": "5ff5974e-4fe5-47dd-ac97-30f9188d30ef",
   "metadata": {},
   "source": [
    "### *_Chosed Random Forest Classifier among all the models_*"
   ]
  },
  {
   "cell_type": "code",
   "execution_count": 20,
   "id": "59f83a53-04ed-43a6-baaa-9fb6962f2d0f",
   "metadata": {},
   "outputs": [
    {
     "data": {
      "text/plain": [
       "1.0"
      ]
     },
     "execution_count": 20,
     "metadata": {},
     "output_type": "execute_result"
    }
   ],
   "source": [
    "rfc = RandomForestClassifier(n_estimators=120, random_state=42)\n",
    "rfc.fit(X_train, y_train)\n",
    "predictions = rfc.predict(X_test)\n",
    "accuracy_score(y_test, predictions)"
   ]
  },
  {
   "cell_type": "markdown",
   "id": "07b837b0-22f7-41e6-869b-eec2033f228a",
   "metadata": {},
   "source": [
    "### *_Saving the model_*"
   ]
  },
  {
   "cell_type": "code",
   "execution_count": 21,
   "id": "ea7a802e-1e51-4694-b6aa-bd545d8931f4",
   "metadata": {},
   "outputs": [],
   "source": [
    "import pickle\n",
    "pickle.dump(rfc, open(\"rfc.pkl\",\"wb\"))"
   ]
  },
  {
   "cell_type": "markdown",
   "id": "e6955fca-e09b-4c43-9626-9d1509d11134",
   "metadata": {},
   "source": [
    "### *_Loading the model for prediction on the basis of user input_*"
   ]
  },
  {
   "cell_type": "code",
   "execution_count": 22,
   "id": "21adf853-7474-45fa-bc13-e0294d1ca079",
   "metadata": {},
   "outputs": [],
   "source": [
    "rfc = pickle.load(open(\"rfc.pkl\",\"rb\"))"
   ]
  },
  {
   "cell_type": "code",
   "execution_count": 23,
   "id": "36ca84b9-aaab-4bdf-958c-45c7c4131163",
   "metadata": {},
   "outputs": [],
   "source": [
    "input1 = X_test.iloc[0].values.reshape(1,-1)"
   ]
  },
  {
   "cell_type": "code",
   "execution_count": 24,
   "id": "893abd96-12bd-4016-b6fa-f8cce804d485",
   "metadata": {},
   "outputs": [
    {
     "name": "stdout",
     "output_type": "stream",
     "text": [
      "Predicted Label:  [40]\n",
      "Actual Label:  40\n"
     ]
    }
   ],
   "source": [
    "print(\"Predicted Label: \", rfc.predict(input1))\n",
    "print(\"Actual Label: \", y_test[0])"
   ]
  },
  {
   "cell_type": "markdown",
   "id": "ba92c1ce-8650-4c8a-97be-2a5be0395c6b",
   "metadata": {},
   "source": [
    "### *_Loading the supportive datasets to give the complete solution on predicted disease_*"
   ]
  },
  {
   "cell_type": "code",
   "execution_count": 25,
   "id": "cacc211a-7023-467b-840e-600a29ed7845",
   "metadata": {},
   "outputs": [],
   "source": [
    "Symptoms_disease = pd.read_csv(\"symtoms_df.csv\")\n",
    "precautions = pd.read_csv(\"precautions_df.csv\")\n",
    "workout = pd.read_csv(\"workout_df.csv\")\n",
    "description = pd.read_csv(\"description.csv\")\n",
    "medication = pd.read_csv(\"medications.csv\")\n",
    "diet = pd.read_csv(\"diets.csv\")"
   ]
  },
  {
   "cell_type": "code",
   "execution_count": 26,
   "id": "c2261f55-4056-4c66-bb73-254c7eaac91a",
   "metadata": {},
   "outputs": [],
   "source": [
    "symptoms_dict = {'itching': 0, 'skin_rash': 1, 'nodal_skin_eruptions': 2, 'continuous_sneezing': 3, 'shivering': 4, 'chills': 5, 'joint_pain': 6, 'stomach_pain': 7, 'acidity': 8, 'ulcers_on_tongue': 9, 'muscle_wasting': 10, 'vomiting': 11, 'burning_micturition': 12, 'spotting_ urination': 13, 'fatigue': 14, 'weight_gain': 15, 'anxiety': 16, 'cold_hands_and_feets': 17, 'mood_swings': 18, 'weight_loss': 19, 'restlessness': 20, 'lethargy': 21, 'patches_in_throat': 22, 'irregular_sugar_level': 23, 'cough': 24, 'high_fever': 25, 'sunken_eyes': 26, 'breathlessness': 27, 'sweating': 28, 'dehydration': 29, 'indigestion': 30, 'headache': 31, 'yellowish_skin': 32, 'dark_urine': 33, 'nausea': 34, 'loss_of_appetite': 35, 'pain_behind_the_eyes': 36, 'back_pain': 37, 'constipation': 38, 'abdominal_pain': 39, 'diarrhoea': 40, 'mild_fever': 41, 'yellow_urine': 42, 'yellowing_of_eyes': 43, 'acute_liver_failure': 44, 'fluid_overload': 45, 'swelling_of_stomach': 46, 'swelled_lymph_nodes': 47, 'malaise': 48, 'blurred_and_distorted_vision': 49, 'phlegm': 50, 'throat_irritation': 51, 'redness_of_eyes': 52, 'sinus_pressure': 53, 'runny_nose': 54, 'congestion': 55, 'chest_pain': 56, 'weakness_in_limbs': 57, 'fast_heart_rate': 58, 'pain_during_bowel_movements': 59, 'pain_in_anal_region': 60, 'bloody_stool': 61, 'irritation_in_anus': 62, 'neck_pain': 63, 'dizziness': 64, 'cramps': 65, 'bruising': 66, 'obesity': 67, 'swollen_legs': 68, 'swollen_blood_vessels': 69, 'puffy_face_and_eyes': 70, 'enlarged_thyroid': 71, 'brittle_nails': 72, 'swollen_extremeties': 73, 'excessive_hunger': 74, 'extra_marital_contacts': 75, 'drying_and_tingling_lips': 76, 'slurred_speech': 77, 'knee_pain': 78, 'hip_joint_pain': 79, 'muscle_weakness': 80, 'stiff_neck': 81, 'swelling_joints': 82, 'movement_stiffness': 83, 'spinning_movements': 84, 'loss_of_balance': 85, 'unsteadiness': 86, 'weakness_of_one_body_side': 87, 'loss_of_smell': 88, 'bladder_discomfort': 89, 'foul_smell_of urine': 90, 'continuous_feel_of_urine': 91, 'passage_of_gases': 92, 'internal_itching': 93, 'toxic_look_(typhos)': 94, 'depression': 95, 'irritability': 96, 'muscle_pain': 97, 'altered_sensorium': 98, 'red_spots_over_body': 99, 'belly_pain': 100, 'abnormal_menstruation': 101, 'dischromic _patches': 102, 'watering_from_eyes': 103, 'increased_appetite': 104, 'polyuria': 105, 'family_history': 106, 'mucoid_sputum': 107, 'rusty_sputum': 108, 'lack_of_concentration': 109, 'visual_disturbances': 110, 'receiving_blood_transfusion': 111, 'receiving_unsterile_injections': 112, 'coma': 113, 'stomach_bleeding': 114, 'distention_of_abdomen': 115, 'history_of_alcohol_consumption': 116, 'fluid_overload.1': 117, 'blood_in_sputum': 118, 'prominent_veins_on_calf': 119, 'palpitations': 120, 'painful_walking': 121, 'pus_filled_pimples': 122, 'blackheads': 123, 'scurring': 124, 'skin_peeling': 125, 'silver_like_dusting': 126, 'small_dents_in_nails': 127, 'inflammatory_nails': 128, 'blister': 129, 'red_sore_around_nose': 130, 'yellow_crust_ooze': 131}\n",
    "diseases_list = {15: 'Fungal infection', 4: 'Allergy', 16: 'GERD', 9: 'Chronic cholestasis', 14: 'Drug Reaction', 33: 'Peptic ulcer diseae', 1: 'AIDS', 12: 'Diabetes ', 17: 'Gastroenteritis', 6: 'Bronchial Asthma', 23: 'Hypertension ', 30: 'Migraine', 7: 'Cervical spondylosis', 32: 'Paralysis (brain hemorrhage)', 28: 'Jaundice', 29: 'Malaria', 8: 'Chicken pox', 11: 'Dengue', 37: 'Typhoid', 40: 'hepatitis A', 19: 'Hepatitis B', 20: 'Hepatitis C', 21: 'Hepatitis D', 22: 'Hepatitis E', 3: 'Alcoholic hepatitis', 36: 'Tuberculosis', 10: 'Common Cold', 34: 'Pneumonia', 13: 'Dimorphic hemmorhoids(piles)', 18: 'Heart attack', 39: 'Varicose veins', 26: 'Hypothyroidism', 24: 'Hyperthyroidism', 25: 'Hypoglycemia', 31: 'Osteoarthristis', 5: 'Arthritis', 0: '(vertigo) Paroymsal  Positional Vertigo', 2: 'Acne', 38: 'Urinary tract infection', 35: 'Psoriasis', 27: 'Impetigo'}\n"
   ]
  },
  {
   "cell_type": "markdown",
   "id": "94dec825-61b4-4148-9c15-d7bc864964e5",
   "metadata": {},
   "source": [
    "### *_Please select the number corresponding to the symptoms you're experiencing to determine the associated disease._*"
   ]
  },
  {
   "cell_type": "code",
   "execution_count": 27,
   "id": "06203699-03cf-4875-878f-cfd6f2da857b",
   "metadata": {
    "scrolled": true
   },
   "outputs": [
    {
     "name": "stdout",
     "output_type": "stream",
     "text": [
      "Select symptoms by entering their corresponding numbers separated by commas:\n",
      "0: itching\n",
      "1: skin_rash\n",
      "2: nodal_skin_eruptions\n",
      "3: continuous_sneezing\n",
      "4: shivering\n",
      "5: chills\n",
      "6: joint_pain\n",
      "7: stomach_pain\n",
      "8: acidity\n",
      "9: ulcers_on_tongue\n",
      "10: muscle_wasting\n",
      "11: vomiting\n",
      "12: burning_micturition\n",
      "13: spotting_ urination\n",
      "14: fatigue\n",
      "15: weight_gain\n",
      "16: anxiety\n",
      "17: cold_hands_and_feets\n",
      "18: mood_swings\n",
      "19: weight_loss\n",
      "20: restlessness\n",
      "21: lethargy\n",
      "22: patches_in_throat\n",
      "23: irregular_sugar_level\n",
      "24: cough\n",
      "25: high_fever\n",
      "26: sunken_eyes\n",
      "27: breathlessness\n",
      "28: sweating\n",
      "29: dehydration\n",
      "30: indigestion\n",
      "31: headache\n",
      "32: yellowish_skin\n",
      "33: dark_urine\n",
      "34: nausea\n",
      "35: loss_of_appetite\n",
      "36: pain_behind_the_eyes\n",
      "37: back_pain\n",
      "38: constipation\n",
      "39: abdominal_pain\n",
      "40: diarrhoea\n",
      "41: mild_fever\n",
      "42: yellow_urine\n",
      "43: yellowing_of_eyes\n",
      "44: acute_liver_failure\n",
      "45: fluid_overload\n",
      "46: swelling_of_stomach\n",
      "47: swelled_lymph_nodes\n",
      "48: malaise\n",
      "49: blurred_and_distorted_vision\n",
      "50: phlegm\n",
      "51: throat_irritation\n",
      "52: redness_of_eyes\n",
      "53: sinus_pressure\n",
      "54: runny_nose\n",
      "55: congestion\n",
      "56: chest_pain\n",
      "57: weakness_in_limbs\n",
      "58: fast_heart_rate\n",
      "59: pain_during_bowel_movements\n",
      "60: pain_in_anal_region\n",
      "61: bloody_stool\n",
      "62: irritation_in_anus\n",
      "63: neck_pain\n",
      "64: dizziness\n",
      "65: cramps\n",
      "66: bruising\n",
      "67: obesity\n",
      "68: swollen_legs\n",
      "69: swollen_blood_vessels\n",
      "70: puffy_face_and_eyes\n",
      "71: enlarged_thyroid\n",
      "72: brittle_nails\n",
      "73: swollen_extremeties\n",
      "74: excessive_hunger\n",
      "75: extra_marital_contacts\n",
      "76: drying_and_tingling_lips\n",
      "77: slurred_speech\n",
      "78: knee_pain\n",
      "79: hip_joint_pain\n",
      "80: muscle_weakness\n",
      "81: stiff_neck\n",
      "82: swelling_joints\n",
      "83: movement_stiffness\n",
      "84: spinning_movements\n",
      "85: loss_of_balance\n",
      "86: unsteadiness\n",
      "87: weakness_of_one_body_side\n",
      "88: loss_of_smell\n",
      "89: bladder_discomfort\n",
      "90: foul_smell_of urine\n",
      "91: continuous_feel_of_urine\n",
      "92: passage_of_gases\n",
      "93: internal_itching\n",
      "94: toxic_look_(typhos)\n",
      "95: depression\n",
      "96: irritability\n",
      "97: muscle_pain\n",
      "98: altered_sensorium\n",
      "99: red_spots_over_body\n",
      "100: belly_pain\n",
      "101: abnormal_menstruation\n",
      "102: dischromic _patches\n",
      "103: watering_from_eyes\n",
      "104: increased_appetite\n",
      "105: polyuria\n",
      "106: family_history\n",
      "107: mucoid_sputum\n",
      "108: rusty_sputum\n",
      "109: lack_of_concentration\n",
      "110: visual_disturbances\n",
      "111: receiving_blood_transfusion\n",
      "112: receiving_unsterile_injections\n",
      "113: coma\n",
      "114: stomach_bleeding\n",
      "115: distention_of_abdomen\n",
      "116: history_of_alcohol_consumption\n",
      "117: fluid_overload.1\n",
      "118: blood_in_sputum\n",
      "119: prominent_veins_on_calf\n",
      "120: palpitations\n",
      "121: painful_walking\n",
      "122: pus_filled_pimples\n",
      "123: blackheads\n",
      "124: scurring\n",
      "125: skin_peeling\n",
      "126: silver_like_dusting\n",
      "127: small_dents_in_nails\n",
      "128: inflammatory_nails\n",
      "129: blister\n",
      "130: red_sore_around_nose\n",
      "131: yellow_crust_ooze\n"
     ]
    },
    {
     "name": "stdin",
     "output_type": "stream",
     "text": [
      "Enter the numbers of the symptoms you're experiencing (separated by commas):  3,6,9,2\n"
     ]
    },
    {
     "name": "stdout",
     "output_type": "stream",
     "text": [
      "Selected symptoms:\n",
      "continuous_sneezing\n",
      "joint_pain\n",
      "ulcers_on_tongue\n",
      "nodal_skin_eruptions\n",
      "Predicted Disease: Fungal infection\n"
     ]
    }
   ],
   "source": [
    "def get_predicted_value(patient_symptoms):\n",
    "    input_vector = np.zeros(len(symptoms_dict))\n",
    "    for item in patient_symptoms:\n",
    "        input_vector[symptoms_dict[item]] = 1\n",
    "    return diseases_list[rfc.predict([input_vector])[0]] \n",
    "\n",
    "print(\"Select symptoms by entering their corresponding numbers separated by commas:\")\n",
    "for index, symptom in symptoms_dict.items():\n",
    "    print(f\"{symptom}: {index}\")\n",
    "\n",
    "selected_symptoms_input = input(\"Enter the numbers of the symptoms you're experiencing (separated by commas): \")\n",
    "\n",
    "selected_symptom_nums = selected_symptoms_input.split(',')\n",
    "\n",
    "selected_symptoms = []\n",
    "\n",
    "for num in selected_symptom_nums:\n",
    "    if num.strip().isdigit() and int(num.strip()) in range(len(symptoms_dict)):\n",
    "        selected_symptoms.append(list(symptoms_dict.keys())[int(num.strip())])\n",
    "    else:\n",
    "        print(f\"Invalid input: {num}. Skipping...\")\n",
    "\n",
    "print(\"Selected symptoms:\")\n",
    "for symptom in selected_symptoms:\n",
    "    print(symptom)\n",
    "\n",
    "predicted_disease = get_predicted_value(selected_symptoms)\n",
    "\n",
    "print(\"Predicted Disease:\", predicted_disease)\n"
   ]
  },
  {
   "cell_type": "code",
   "execution_count": 32,
   "id": "fb4d0fc5-2109-46e3-8285-b6abb6f486d5",
   "metadata": {},
   "outputs": [],
   "source": [
    "def helper(dis):\n",
    "    # Get disease description\n",
    "    desc = description[description['Disease'] == dis]['Description']\n",
    "    desc = \" \".join([w for w in desc])\n",
    "\n",
    "    # Get precautions\n",
    "    pre = precautions[precautions['Disease'] == dis][['Precaution_1', 'Precaution_2', 'Precaution_3', 'Precaution_4']]\n",
    "    pre = [col for col in pre.values]\n",
    "\n",
    "    # Get medication\n",
    "    med = medication[medication['Disease'] == dis]['Medication']\n",
    "    med = [med for med in med.values]\n",
    "\n",
    "    # Get diet\n",
    "    die = diet[diet['Disease'] == dis]['Diet']\n",
    "    die = [die for die in die.values]\n",
    "\n",
    "    # Get workout\n",
    "    wrkout = workout[workout['disease'] == dis]['workout']\n",
    "\n",
    "    return desc, pre, med, die, wrkout\n",
    "\n",
    "desc, pre, med, die, wrkout = helper(predicted_disease)\n"
   ]
  },
  {
   "cell_type": "markdown",
   "id": "2d0a6a4b-303c-4ded-8796-2c39be515aae",
   "metadata": {},
   "source": [
    "### *_Here's the full solution for your illness. Take care!_*"
   ]
  },
  {
   "cell_type": "code",
   "execution_count": 33,
   "id": "011ab8b6-d7fe-4513-942a-ac6b17296a98",
   "metadata": {},
   "outputs": [
    {
     "name": "stdout",
     "output_type": "stream",
     "text": [
      "=================predicted disease============\n",
      "Fungal infection \n",
      "\n",
      "=================description==================\n",
      "Fungal infection is a common skin condition caused by fungi. \n",
      "\n",
      "=================precautions==================\n",
      "1 :  bath twice\n",
      "2 :  use detol or neem in bathing water\n",
      "3 :  keep infected area dry\n",
      "4 :  use clean cloths\n",
      "\n",
      "=================medications==================\n",
      "5 :  ['Antifungal Cream', 'Fluconazole', 'Terbinafine', 'Clotrimazole', 'Ketoconazole']\n",
      "\n",
      "=================workout==================\n",
      "6 :  Avoid sugary foods\n",
      "7 :  Consume probiotics\n",
      "8 :  Increase intake of garlic\n",
      "9 :  Include yogurt in diet\n",
      "10 :  Limit processed foods\n",
      "11 :  Stay hydrated\n",
      "12 :  Consume green tea\n",
      "13 :  Eat foods rich in zinc\n",
      "14 :  Include turmeric in diet\n",
      "15 :  Eat fruits and vegetables\n",
      "\n",
      "=================diets==================\n",
      "16 :  ['Antifungal Diet', 'Probiotics', 'Garlic', 'Coconut oil', 'Turmeric']\n"
     ]
    }
   ],
   "source": [
    "desc, pre, med, die, wrkout = helper(predicted_disease)\n",
    "\n",
    "print(\"=================predicted disease============\")\n",
    "print(predicted_disease, \"\\n\")\n",
    "print(\"=================description==================\")\n",
    "print(desc, \"\\n\")\n",
    "print(\"=================precautions==================\")\n",
    "i = 1\n",
    "for p_i in pre[0]:\n",
    "    print(i, \": \", p_i)\n",
    "    i += 1\n",
    "print()\n",
    "print(\"=================medications==================\")\n",
    "for m_i in med:\n",
    "    print(i, \": \", m_i)\n",
    "    i += 1\n",
    "print()\n",
    "print(\"=================workout==================\")\n",
    "for w_i in wrkout:\n",
    "    print(i, \": \", w_i)\n",
    "    i += 1\n",
    "print()\n",
    "print(\"=================diets==================\")\n",
    "for d_i in die:\n",
    "    print(i, \": \", d_i)\n",
    "    i += 1"
   ]
  },
  {
   "cell_type": "markdown",
   "id": "47007cf0-ec4f-414f-913f-a3df5dfec3e4",
   "metadata": {},
   "source": [
    "# _THANK YOU_"
   ]
  }
 ],
 "metadata": {
  "kernelspec": {
   "display_name": "Python 3 (ipykernel)",
   "language": "python",
   "name": "python3"
  },
  "language_info": {
   "codemirror_mode": {
    "name": "ipython",
    "version": 3
   },
   "file_extension": ".py",
   "mimetype": "text/x-python",
   "name": "python",
   "nbconvert_exporter": "python",
   "pygments_lexer": "ipython3",
   "version": "3.12.3"
  }
 },
 "nbformat": 4,
 "nbformat_minor": 5
}
